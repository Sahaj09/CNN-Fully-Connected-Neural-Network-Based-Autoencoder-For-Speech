{
  "nbformat": 4,
  "nbformat_minor": 0,
  "metadata": {
    "colab": {
      "name": "Build_Data_Final_Project.ipynb",
      "provenance": [],
      "machine_shape": "hm"
    },
    "kernelspec": {
      "name": "python3",
      "display_name": "Python 3"
    }
  },
  "cells": [
    {
      "cell_type": "code",
      "metadata": {
        "id": "ss6_49B_vuCs",
        "colab_type": "code",
        "outputId": "76ad958c-369d-479b-e16a-baec5e21cd07",
        "colab": {
          "base_uri": "https://localhost:8080/",
          "height": 81
        }
      },
      "source": [
        "import tensorflow as tf\n",
        "import numpy as np\n",
        "import math\n",
        "from google.colab import drive\n",
        "import pickle\n",
        "from tensorflow.contrib import ffmpeg\n",
        "from scipy.fftpack import rfft, irfft\n",
        "drive.mount('/content/drive',force_remount=True)\n",
        "import glob\n",
        "import os"
      ],
      "execution_count": 1,
      "outputs": [
        {
          "output_type": "display_data",
          "data": {
            "text/html": [
              "<p style=\"color: red;\">\n",
              "The default version of TensorFlow in Colab will soon switch to TensorFlow 2.x.<br>\n",
              "We recommend you <a href=\"https://www.tensorflow.org/guide/migrate\" target=\"_blank\">upgrade</a> now \n",
              "or ensure your notebook will continue to use TensorFlow 1.x via the <code>%tensorflow_version 1.x</code> magic:\n",
              "<a href=\"https://colab.research.google.com/notebooks/tensorflow_version.ipynb\" target=\"_blank\">more info</a>.</p>\n"
            ],
            "text/plain": [
              "<IPython.core.display.HTML object>"
            ]
          },
          "metadata": {
            "tags": []
          }
        },
        {
          "output_type": "stream",
          "text": [
            "Mounted at /content/drive\n"
          ],
          "name": "stdout"
        }
      ]
    },
    {
      "cell_type": "markdown",
      "metadata": {
        "id": "jw4-v8eoQyha",
        "colab_type": "text"
      },
      "source": [
        "# Create Data"
      ]
    },
    {
      "cell_type": "code",
      "metadata": {
        "id": "uislMePFxajx",
        "colab_type": "code",
        "outputId": "3d92cc83-c927-49db-a649-076bf454b71e",
        "colab": {
          "base_uri": "https://localhost:8080/",
          "height": 54
        }
      },
      "source": [
        "\n",
        "\n",
        "\"\"\"\n",
        "\n",
        "train_wav_paths=[]\n",
        "for x in glob.glob('/content/drive/My Drive/DLSP/TIMIT_full/train/*/*/*_riff.wav', recursive=True):\n",
        "    train_wav_paths.append(x)\n",
        "\n",
        "test_wav_paths=[]\n",
        "for x in glob.glob('/content/drive/My Drive/DLSP/TIMIT_full/test/*/*/*_riff.wav', recursive=True):\n",
        "    test_wav_paths.append(x)\n",
        "\n",
        "    \n",
        "training_data_speaker_label=[]\n",
        "training_data=[] #contains sound samples\n",
        "\n",
        "def create_data(path_arr):\n",
        "  for i in range(0,len(path_arr)):\n",
        "    binary=tf.read_file(path_arr[i])\n",
        "    decode=tf.audio.decode_wav(binary,desired_channels=1)\n",
        "    audio,sr=sess.run([decode.audio,decode.sample_rate])\n",
        "    audio=np.array(audio)\n",
        "    #print(np.shape(audio))\n",
        "    audio_rfft=rfft(audio[:,0])\n",
        "    dim_one=math.floor(len(audio_rfft)/input_dimension)\n",
        "    total_len=dim_one*input_dimension\n",
        "    final_audio=audio_rfft[0:total_len].reshape([dim_one,input_dimension])\n",
        "    print(np.shape(final_audio))\n",
        "    training_data.append(final_audio)\n",
        "    speaker_name=os.path.dirname(path_arr[i]).split('/')[-1]\n",
        "    training_data_speaker_label.append(speaker_name)\n",
        "    print(speaker_name)\n",
        "\n",
        "with tf.Session() as sess:\n",
        "  sess.run(tf.global_variables_initializer())\n",
        "  create_data(train_wav_paths)\n",
        "\n",
        "data = [training_data_speaker_label, training_data]\n",
        "pickle_out = open(\"/content/drive/My Drive/DLSP/train_data_speaker_data.pickle\",\"wb\")\n",
        "pickle.dump(data, pickle_out)\n",
        "pickle_out.close()\n",
        "\"\"\""
      ],
      "execution_count": 2,
      "outputs": [
        {
          "output_type": "execute_result",
          "data": {
            "text/plain": [
              "'\\n\\ntrain_wav_paths=[]\\nfor x in glob.glob(\\'/content/drive/My Drive/DLSP/TIMIT_full/train/*/*/*_riff.wav\\', recursive=True):\\n    train_wav_paths.append(x)\\n\\ntest_wav_paths=[]\\nfor x in glob.glob(\\'/content/drive/My Drive/DLSP/TIMIT_full/test/*/*/*_riff.wav\\', recursive=True):\\n    test_wav_paths.append(x)\\n\\n    \\ntraining_data_speaker_label=[]\\ntraining_data=[] #contains sound samples\\n\\ndef create_data(path_arr):\\n  for i in range(0,len(path_arr)):\\n    binary=tf.read_file(path_arr[i])\\n    decode=tf.audio.decode_wav(binary,desired_channels=1)\\n    audio,sr=sess.run([decode.audio,decode.sample_rate])\\n    audio=np.array(audio)\\n    #print(np.shape(audio))\\n    audio_rfft=rfft(audio[:,0])\\n    dim_one=math.floor(len(audio_rfft)/input_dimension)\\n    total_len=dim_one*input_dimension\\n    final_audio=audio_rfft[0:total_len].reshape([dim_one,input_dimension])\\n    print(np.shape(final_audio))\\n    training_data.append(final_audio)\\n    speaker_name=os.path.dirname(path_arr[i]).split(\\'/\\')[-1]\\n    training_data_speaker_label.append(speaker_name)\\n    print(speaker_name)\\n\\nwith tf.Session() as sess:\\n  sess.run(tf.global_variables_initializer())\\n  create_data(train_wav_paths)\\n\\ndata = [training_data_speaker_label, training_data]\\npickle_out = open(\"/content/drive/My Drive/DLSP/train_data_speaker_data.pickle\",\"wb\")\\npickle.dump(data, pickle_out)\\npickle_out.close()\\n'"
            ]
          },
          "metadata": {
            "tags": []
          },
          "execution_count": 2
        }
      ]
    },
    {
      "cell_type": "code",
      "metadata": {
        "id": "KKC1qLPo0dHS",
        "colab_type": "code",
        "colab": {}
      },
      "source": [
        "# Create data if not already created using above cell\n",
        "\n",
        "pickle_in = open(\"/content/drive/My Drive/DLSP/train_data_speaker_data.pickle\",\"rb\")\n",
        "training_data_speaker_label, training_data = pickle.load(pickle_in)\n",
        "\n",
        "pickle_in = open(\"/content/drive/My Drive/DLSP/test_data_speaker_data.pickle\",\"rb\")\n",
        "test_data_speaker_label, test_data = pickle.load(pickle_in)"
      ],
      "execution_count": 0,
      "outputs": []
    },
    {
      "cell_type": "markdown",
      "metadata": {
        "id": "-9LyZ8-_Q2Av",
        "colab_type": "text"
      },
      "source": [
        "# Model and Training"
      ]
    },
    {
      "cell_type": "code",
      "metadata": {
        "id": "uHeV2539QXW4",
        "colab_type": "code",
        "colab": {}
      },
      "source": [
        "import keras\n",
        "from keras.optimizers import Adam\n",
        "from keras.layers import Dense\n",
        "from keras.models import Sequential\n",
        "from sklearn.utils import shuffle\n",
        "from keras import regularizers\n",
        "from tensorflow.contrib import ffmpeg\n",
        "\n",
        "print(len(training_data))\n",
        "training_data = shuffle(training_data, random_state=1)\n",
        "print(len(training_data))\n",
        "validation_data= training_data[-460:]\n",
        "print(len(training_data))\n",
        "training_data=training_data[:-460]\n",
        "print(len(training_data))\n",
        "print(len(validation_data))\n",
        "\n",
        "\n",
        "lr = 0.000001\n",
        "l2 = 0.0001\n",
        "input_size=12348\n",
        "\n",
        "INPUT = tf.placeholder(tf.float32, shape=[None, input_size])\n",
        "l2_regularizer = tf.contrib.layers.l2_regularizer(l2)\n",
        "\n",
        "Hidden_Layer_1=tf.layers.dense(INPUT, 8500, activation=tf.nn.elu, kernel_initializer=tf.contrib.layers.variance_scaling_initializer(), kernel_regularizer=tf.contrib.layers.l2_regularizer(l2))\n",
        "Hidden_Layer_2=tf.layers.dense(Hidden_Layer_1, 3500, activation=tf.nn.elu, kernel_initializer=tf.contrib.layers.variance_scaling_initializer(), kernel_regularizer=tf.contrib.layers.l2_regularizer(l2))\n",
        "Hidden_Layer_3=tf.layers.dense(Hidden_Layer_2, 2750, activation=tf.nn.elu, kernel_initializer=tf.contrib.layers.variance_scaling_initializer(), kernel_regularizer=tf.contrib.layers.l2_regularizer(l2))\n",
        "Hidden_Layer_4=tf.layers.dense(Hidden_Layer_3, 3500, activation=tf.nn.elu, kernel_initializer=tf.contrib.layers.variance_scaling_initializer(), kernel_regularizer=tf.contrib.layers.l2_regularizer(l2))\n",
        "outputs = tf.layers.dense(Hidden_Layer_4, input_size, activation=None, kernel_initializer=tf.contrib.layers.variance_scaling_initializer(), kernel_regularizer=tf.contrib.layers.l2_regularizer(l2))\n",
        "\n",
        "reg_cost = tf.get_collection(tf.GraphKeys.REGULARIZATION_LOSSES)\n",
        "rec_cost = tf.reduce_mean(tf.square(outputs-INPUT))\n",
        "loss_ = tf.add_n(reg_cost+[rec_cost])\n",
        "optimizer = tf.train.AdamOptimizer(lr)\n",
        "training_op = optimizer.minimize(loss_)\n",
        "\n",
        "curr_batch=0\n",
        "\n",
        "\n",
        "\n",
        "\n",
        "saver = tf.train.Saver(max_to_keep=2)\n",
        "sess=tf.Session()\n",
        "sess.run(tf.global_variables_initializer())\n",
        "#saver.restore(sess,\"/content/drive/My Drive/DLSP/Final_Model_Saved_File/Final_Model.ckpt\")\n",
        "train_update_loss=[]\n",
        "validation_loss=[]\n",
        "\n",
        "for epoch in range(0,1000):\n",
        "  \n",
        "  if curr_batch+50>=len(training_data):\n",
        "    curr_batch=0\n",
        "  \n",
        "  for i in range(curr_batch,curr_batch+50):\n",
        "    print(np.shape(training_data[i]))\n",
        "    _, loss=  sess.run([training_op, loss_], feed_dict={INPUT:training_data[i]}) #change\n",
        "    train_update_loss.append(loss)\n",
        "    print(\"epoch-\",epoch,\" example-\",i,\" loss-\",loss)\n",
        "  \n",
        "  curr_batch+=50\n",
        "  \n",
        "  # Calculating Validation is impossible, as there are too many validation files and too small time window on colab\n",
        "  if epoch%20==0:\n",
        "    print(\"checking_validation-\")\n",
        "    epoch_validation_loss=[]\n",
        "    #for item in validation_data:\n",
        "    #  val_loss=sess.run([loss_], feed_dict={INPUT:item})  #change\n",
        "    #  print(\"validation_loss on example-\",val_loss)\n",
        "    #  epoch_validation_loss.append(val_loss)\n",
        "    #print(\"\\n the validation loss is-\",np.mean(epoch_validation_loss),\"\\n\")\n",
        "    #validation_loss.append(np.mean(epoch_validation_loss))\n",
        "\n",
        "    data = train_update_loss\n",
        "    pickle_out = open(\"/content/drive/My Drive/DLSP/result_from_final_model_update_loss_valid_loss-2.pickle\",\"wb\")\n",
        "    pickle.dump(data, pickle_out)\n",
        "    pickle_out.close()\n",
        "\n",
        "  if epoch%20==0 and epoch!=0:\n",
        "    print(\"check if got in\")\n",
        "    saver.save(sess,\"/content/drive/My Drive/DLSP/Final_Model_Saved_File/Final_Model.ckpt\")\n",
        "    original=np.hstack(np.hstack(test_data[0]))\n",
        "    generated=sess.run(outputs, feed_dict={INPUT:test_data[0]})\n",
        "    #print(\"check\")\n",
        "    generated=np.hstack(np.hstack(generated))\n",
        "    original=np.hstack(irfft(original))\n",
        "    generated=np.hstack(irfft(generated))\n",
        "    original=np.array([original]).T\n",
        "    generated=np.array([generated]).T\n",
        "    print(generated)\n",
        "    wav_encoder_generated = ffmpeg.encode_audio(generated, file_format='wav', samples_per_second=16000)\n",
        "    wav_encoder_original = ffmpeg.encode_audio(original, file_format='wav', samples_per_second=16000)\n",
        "    \n",
        "    wav_generated = sess.run(wav_encoder_generated)\n",
        "    wav_original = sess.run(wav_encoder_original)\n",
        "    open('/content/drive/My Drive/DLSP/Final_Model_Test_Files/generated.wav', 'wb').write(wav_generated)\n",
        "    open('/content/drive/My Drive/DLSP/Final_Model_Test_Files/original.wav', 'wb').write(wav_original)  \n",
        "  "
      ],
      "execution_count": 0,
      "outputs": []
    },
    {
      "cell_type": "code",
      "metadata": {
        "id": "y_ecXwendqzx",
        "colab_type": "code",
        "colab": {}
      },
      "source": [
        "for i in range(0,len(test_data)):\n",
        "  original=np.hstack(np.hstack(test_data[i]))\n",
        "  generated=sess.run(outputs, feed_dict={INPUT:test_data[i]})\n",
        "  #print(\"check\")\n",
        "  generated=np.hstack(np.hstack(generated))\n",
        "  original=np.hstack(irfft(original))\n",
        "  generated=np.hstack(irfft(generated))\n",
        "  original=np.array([original]).T\n",
        "  generated=np.array([generated]).T\n",
        "  print(i)\n",
        "  wav_encoder_generated = ffmpeg.encode_audio(generated, file_format='wav', samples_per_second=16000)\n",
        "  wav_encoder_original = ffmpeg.encode_audio(original, file_format='wav', samples_per_second=16000)\n",
        "\n",
        "  wav_generated = sess.run(wav_encoder_generated)\n",
        "  wav_original = sess.run(wav_encoder_original)\n",
        "  open('/content/drive/My Drive/DLSP/Final_Model_Test_Files/'+str(i)+'_generated.wav', 'wb').write(wav_generated)\n",
        "  open('/content/drive/My Drive/DLSP/Final_Model_Test_Files/'+str(i)+'_original.wav', 'wb').write(wav_original)"
      ],
      "execution_count": 0,
      "outputs": []
    },
    {
      "cell_type": "markdown",
      "metadata": {
        "id": "GpqBrWzLg73r",
        "colab_type": "text"
      },
      "source": [
        "# Calculating SNR and PESQ"
      ]
    },
    {
      "cell_type": "code",
      "metadata": {
        "id": "9CJ5sNjAQmEP",
        "colab_type": "code",
        "colab": {}
      },
      "source": [
        "import os\n",
        "!pip install pesq\n",
        "from pesq import pesq\n",
        "import math\n",
        "\n",
        "directory=\"/content/drive/My Drive/DLSP/Final_Model_Test_Files/\"\n",
        "\n",
        "list_names=os.listdir(\"/content/drive/My Drive/DLSP/Final_Model_Test_Files/\")\n",
        "\n",
        "\n",
        "from scipy.io import wavfile\n",
        "\n",
        "def SNR(infile,outfile):\n",
        "  sr_i,i = wavfile.read(infile)\n",
        "  sr_o,o = wavfile.read(outfile)\n",
        "  return 10*math.log10(np.sum(i**2)/np.sum(o**2))\n",
        "\n",
        "\n",
        "\n",
        "def PESQ(infile,outfile):\n",
        "    rate, ref = wavfile.read(infile)\n",
        "    rate, deg = wavfile.read(outfile)\n",
        "    ref=np.array(ref)\n",
        "    deg=np.array(deg)\n",
        "    return pesq(rate, ref, deg, 'wb'),pesq(rate, ref, deg, 'nb')\n",
        "\n",
        "list_pesq_nb=[]\n",
        "list_pesq_wb=[]\n",
        "list_snr=[]\n",
        "\n",
        "print(list_names)\n",
        "\n",
        "for i in range(0,len(test_data)):\n",
        "  orig=None\n",
        "  rec=None\n",
        "  for j in list_names:\n",
        "    if j.startswith(str(i)+'_original'):\n",
        "      orig=j\n",
        "      break\n",
        "  for j in list_names:\n",
        "    if j.startswith(str(i)+'_generated'):\n",
        "      rec=j\n",
        "      break\n",
        "  original_path=directory+orig\n",
        "  reconstructed_path=directory+rec\n",
        "  print(original_path)\n",
        "  print(reconstructed_path)\n",
        "  SNR_val=SNR(original_path, reconstructed_path)\n",
        "  pesq_wb, pesq_nb = PESQ(original_path, reconstructed_path)\n",
        "  list_snr.append(SNR_val)\n",
        "  list_pesq_nb.append(pesq_nb)\n",
        "  list_pesq_wb.append(pesq_wb)\n",
        "  print(\"SNR-\",SNR_val)\n",
        "  print(\"pesq nb-\",pesq_nb)\n",
        "  print(\"pesq wb-\",pesq_wb)\n",
        "print(\"mean SNR-\",np.mean(list_snr))\n",
        "print(\"mean PESQ NB-\",np.mean(list_pesq_nb))\n",
        "print(\"mean PESQ WB-\",np.mean(list_pesq_wb))"
      ],
      "execution_count": 0,
      "outputs": []
    },
    {
      "cell_type": "code",
      "metadata": {
        "id": "JqOBpQ9VfKLn",
        "colab_type": "code",
        "colab": {
          "base_uri": "https://localhost:8080/",
          "height": 279
        },
        "outputId": "26e451f5-9db6-4bf8-8ae3-8941ff5b990d"
      },
      "source": [
        "from matplotlib import pyplot as plt\n",
        "pickle_in = open(\"/content/drive/My Drive/DLSP/result_from_final_model_update_loss_valid_loss-2.pickle\",\"rb\")\n",
        "train_u = pickle.load(pickle_in)\n",
        "plt.plot([i for i in range(0,len(train_u))],train_u,label=\"training error\")\n",
        "plt.xlabel(\"update steps\")\n",
        "plt.ylabel(\"loss\")\n",
        "plt.legend()\n",
        "plt.show()\n"
      ],
      "execution_count": 11,
      "outputs": [
        {
          "output_type": "display_data",
          "data": {
            "image/png": "[encoded data removed]",
            "text/plain": [
              "<Figure size 432x288 with 1 Axes>"
            ]
          },
          "metadata": {
            "tags": []
          }
        }
      ]
    },
    {
      "cell_type": "code",
      "metadata": {
        "id": "LWwn7TvfhSVU",
        "colab_type": "code",
        "colab": {}
      },
      "source": [
        ""
      ],
      "execution_count": 0,
      "outputs": []
    }
  ]
}